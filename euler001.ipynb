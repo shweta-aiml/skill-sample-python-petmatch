{
  "nbformat": 4,
  "nbformat_minor": 0,
  "metadata": {
    "colab": {
      "name": "euler001.ipynb",
      "version": "0.3.2",
      "provenance": [],
      "collapsed_sections": [],
      "include_colab_link": true
    },
    "kernelspec": {
      "display_name": "Python 3",
      "language": "python",
      "name": "python3"
    }
  },
  "cells": [
    {
      "cell_type": "markdown",
      "metadata": {
        "id": "view-in-github",
        "colab_type": "text"
      },
      "source": [
        "<a href=\"https://colab.research.google.com/github/shweta-aiml/skill-sample-python-petmatch/blob/master/euler001.ipynb\" target=\"_parent\"><img src=\"https://colab.research.google.com/assets/colab-badge.svg\" alt=\"Open In Colab\"/></a>"
      ]
    },
    {
      "metadata": {
        "id": "gBZ_PdalFoA3",
        "colab_type": "text"
      },
      "cell_type": "markdown",
      "source": [
        "# Euler 1\n",
        "If we list all the natural numbers below 10 that are multiples of 3 or 5, we get 3, 5, 6 and 9. The sum of these multiples is 23.\n",
        "\n",
        "Find the sum of all the multiples of 3 or 5 below 1000."
      ]
    },
    {
      "metadata": {
        "id": "QgBcrAYcFoA4",
        "colab_type": "code",
        "outputId": "7f0b9fbe-9bad-4999-d713-c1c3a5fb0f87",
        "colab": {
          "base_uri": "https://localhost:8080/",
          "height": 34
        }
      },
      "cell_type": "code",
      "source": [
        "### Using a while loop\n",
        "LIMIT = 1000\n",
        "total = 0\n",
        "n = 1\n",
        "while n < LIMIT:\n",
        "    if n % 3 == 0 or n % 5 == 0:\n",
        "        total += n\n",
        "    n += 1\n",
        "print(total)"
      ],
      "execution_count": 0,
      "outputs": [
        {
          "output_type": "stream",
          "text": [
            "233168\n"
          ],
          "name": "stdout"
        }
      ]
    },
    {
      "metadata": {
        "id": "AEP2B_AlFoA9",
        "colab_type": "code",
        "outputId": "23f55e61-0715-41e2-d1fa-e8c45c250076",
        "colab": {
          "base_uri": "https://localhost:8080/",
          "height": 35
        }
      },
      "cell_type": "code",
      "source": [
        "### Using range() and for loop\n",
        "LIMIT = 1000\n",
        "total = 0\n",
        "for n in range(LIMIT):\n",
        "    if n % 3 == 0 or n % 5 == 0:\n",
        "        total += n\n",
        "print(total)"
      ],
      "execution_count": 0,
      "outputs": [
        {
          "output_type": "stream",
          "text": [
            "233168\n"
          ],
          "name": "stdout"
        }
      ]
    },
    {
      "metadata": {
        "id": "I4kA6uABFoBB",
        "colab_type": "code",
        "outputId": "e5222a5a-dd8a-45a1-83f0-aad986e8beaf",
        "colab": {
          "base_uri": "https://localhost:8080/",
          "height": 35
        }
      },
      "cell_type": "code",
      "source": [
        "### Using a function with while\n",
        "def select(x):\n",
        "    return x % 3 == 0 or x % 5 == 0\n",
        "\n",
        "LIMIT = 1000\n",
        "total = 0\n",
        "n = 1\n",
        "while n < LIMIT:\n",
        "    if select(n):\n",
        "        total += n\n",
        "    n += 1\n",
        "print(total)"
      ],
      "execution_count": 0,
      "outputs": [
        {
          "output_type": "stream",
          "text": [
            "233168\n"
          ],
          "name": "stdout"
        }
      ]
    },
    {
      "metadata": {
        "id": "lhO4BrV0FoBG",
        "colab_type": "code",
        "outputId": "df840b4b-f849-4310-d85d-52d3761fc70d",
        "colab": {
          "base_uri": "https://localhost:8080/",
          "height": 35
        }
      },
      "cell_type": "code",
      "source": [
        "### Using a function with for\n",
        "def select(x):\n",
        "    return x % 3 == 0 or x % 5 == 0\n",
        "LIMIT = 1000\n",
        "total = 0\n",
        "for n in range(LIMIT):\n",
        "    if select(n):\n",
        "        total += n\n",
        "print(total)"
      ],
      "execution_count": 0,
      "outputs": [
        {
          "output_type": "stream",
          "text": [
            "233168\n"
          ],
          "name": "stdout"
        }
      ]
    },
    {
      "metadata": {
        "id": "fyJHpEVJFoBK",
        "colab_type": "code",
        "outputId": "1f24b650-af1e-4091-a651-b5156fa3f4d6",
        "colab": {
          "base_uri": "https://localhost:8080/",
          "height": 35
        }
      },
      "cell_type": "code",
      "source": [
        "### Using filter with lambda\n",
        "LIMIT = 1000\n",
        "sum(filter(lambda x: x % 3 == 0 or x % 5 == 0, range(LIMIT)))"
      ],
      "execution_count": 0,
      "outputs": [
        {
          "output_type": "execute_result",
          "data": {
            "text/plain": [
              "233168"
            ]
          },
          "metadata": {
            "tags": []
          },
          "execution_count": 8
        }
      ]
    },
    {
      "metadata": {
        "id": "OMaumtmFFoBN",
        "colab_type": "code",
        "colab": {}
      },
      "cell_type": "code",
      "source": [
        "### Using filter with function\n",
        "def select(x):\n",
        "    return x % 3 == 0 or x % 5 == 0\n",
        "LIMIT = 1000\n",
        "sum(filter(select, range(LIMIT)))"
      ],
      "execution_count": 0,
      "outputs": []
    },
    {
      "metadata": {
        "id": "4KYm3mwdFoBR",
        "colab_type": "code",
        "colab": {}
      },
      "cell_type": "code",
      "source": [
        "### Using list comprehensions\n",
        "LIMIT = 1000\n",
        "sum([x for x in range(LIMIT) if x % 3 == 0 or x % 5 == 0])"
      ],
      "execution_count": 0,
      "outputs": []
    },
    {
      "metadata": {
        "id": "unv2_95aFoBV",
        "colab_type": "code",
        "colab": {}
      },
      "cell_type": "code",
      "source": [
        "### Using just ranges\n",
        "LIMIT = 1000\n",
        "sum(range(3, LIMIT, 3)) + sum(range(5, LIMIT, 5)) - sum(range(15, LIMIT, 15))"
      ],
      "execution_count": 0,
      "outputs": []
    },
    {
      "metadata": {
        "id": "pa6LLaOyFoBa",
        "colab_type": "code",
        "outputId": "8891e9cc-9eaf-4a3a-f6b0-0cd473012807",
        "colab": {
          "base_uri": "https://localhost:8080/",
          "height": 54
        }
      },
      "cell_type": "code",
      "source": [
        "### Using sets\n",
        "LIMIT = 1000\n",
        "sum(set(range(3, LIMIT, 3)) | set(range(5, LIMIT, 5)))"
      ],
      "execution_count": 0,
      "outputs": [
        {
          "output_type": "execute_result",
          "data": {
            "text/plain": [
              "233168"
            ]
          },
          "metadata": {
            "tags": []
          },
          "execution_count": 1
        }
      ]
    },
    {
      "metadata": {
        "id": "OwjWAI3YFoBf",
        "colab_type": "code",
        "colab": {}
      },
      "cell_type": "code",
      "source": [
        "open?"
      ],
      "execution_count": 0,
      "outputs": []
    },
    {
      "metadata": {
        "id": "Qn7xV2BEfMTH",
        "colab_type": "code",
        "colab": {}
      },
      "cell_type": "code",
      "source": [
        ""
      ],
      "execution_count": 0,
      "outputs": []
    }
  ]
}